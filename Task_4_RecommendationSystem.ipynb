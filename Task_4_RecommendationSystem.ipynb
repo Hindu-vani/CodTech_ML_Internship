{
 "cells": [
  {
   "cell_type": "markdown",
   "id": "036aa585-7e5c-4cd7-90b0-668d34114770",
   "metadata": {},
   "source": [
    "**Step 1: Install and Import Libraries**"
   ]
  },
  {
   "cell_type": "code",
   "execution_count": 11,
   "id": "ecf907a7-b0f6-42bb-bf63-fa55f230fb1e",
   "metadata": {},
   "outputs": [],
   "source": [
    "from surprise import SVD, Dataset, Reader\n",
    "from surprise.model_selection import cross_validate, train_test_split\n",
    "from surprise import accuracy\n",
    "from surprise.model_selection import GridSearchCV\n",
    "import pandas as pd\n",
    "import numpy as np"
   ]
  },
  {
   "cell_type": "markdown",
   "id": "41aff29d-db6d-4be0-a6de-851659f23bd1",
   "metadata": {},
   "source": [
    "**Step 2: Load MovieLens Dataset**"
   ]
  },
  {
   "cell_type": "code",
   "execution_count": 12,
   "id": "9c89a13f-c934-4d0b-8571-921198ebcfcb",
   "metadata": {},
   "outputs": [],
   "source": [
    "# Load built-in MovieLens-100k dataset\n",
    "data = Dataset.load_builtin('ml-100k')\n",
    "\n",
    "# Split the dataset into train and test set\n",
    "trainset, testset = train_test_split(data, test_size=0.2, random_state=42)"
   ]
  },
  {
   "cell_type": "markdown",
   "id": "84877e2a-4e73-4bcb-b41f-820d10324e33",
   "metadata": {},
   "source": [
    "**Step 3: Train SVD Recommender Model**"
   ]
  },
  {
   "cell_type": "code",
   "execution_count": 13,
   "id": "419c0ce4-0047-4eb4-8f98-00a11d76ef90",
   "metadata": {},
   "outputs": [],
   "source": [
    "model = SVD()\n",
    "model.fit(trainset)\n",
    "\n",
    "# Make predictions on test set\n",
    "predictions = model.test(testset)"
   ]
  },
  {
   "cell_type": "markdown",
   "id": "1304eb40-74d3-4a36-ab82-99bded8e8b7f",
   "metadata": {},
   "source": [
    "**Step 4: Evaluate the Model**"
   ]
  },
  {
   "cell_type": "code",
   "execution_count": 14,
   "id": "fe81297b-b4da-4ce2-a865-d489365a2cde",
   "metadata": {},
   "outputs": [
    {
     "name": "stdout",
     "output_type": "stream",
     "text": [
      "RMSE: 0.9374\n",
      "MAE:  0.7387\n"
     ]
    },
    {
     "data": {
      "text/plain": [
       "0.7386759164799147"
      ]
     },
     "execution_count": 14,
     "metadata": {},
     "output_type": "execute_result"
    }
   ],
   "source": [
    "# RMSE and MAE\n",
    "accuracy.rmse(predictions)\n",
    "accuracy.mae(predictions)"
   ]
  },
  {
   "cell_type": "markdown",
   "id": "72e323a0-bd1c-41ed-80b2-331e4c166c19",
   "metadata": {},
   "source": [
    "**Step 5: Generate Top-N Movie Recommendations for a User**"
   ]
  },
  {
   "cell_type": "code",
   "execution_count": 15,
   "id": "f37cd629-4164-48c9-bc20-a55ba7e8cad3",
   "metadata": {},
   "outputs": [
    {
     "name": "stdout",
     "output_type": "stream",
     "text": [
      "User 907's Top 5 Recommendations:\n",
      "Movie ID: 173 | Predicted Rating: 5.00\n",
      "Movie ID: 813 | Predicted Rating: 5.00\n",
      "Movie ID: 1 | Predicted Rating: 5.00\n",
      "Movie ID: 79 | Predicted Rating: 5.00\n",
      "Movie ID: 172 | Predicted Rating: 5.00\n",
      "\n",
      "User 371's Top 5 Recommendations:\n",
      "Movie ID: 210 | Predicted Rating: 4.43\n",
      "Movie ID: 186 | Predicted Rating: 4.43\n",
      "Movie ID: 97 | Predicted Rating: 4.16\n",
      "Movie ID: 175 | Predicted Rating: 4.14\n",
      "Movie ID: 746 | Predicted Rating: 4.12\n",
      "\n",
      "User 218's Top 5 Recommendations:\n",
      "Movie ID: 12 | Predicted Rating: 4.27\n",
      "Movie ID: 654 | Predicted Rating: 3.82\n",
      "Movie ID: 209 | Predicted Rating: 3.45\n",
      "Movie ID: 789 | Predicted Rating: 3.44\n",
      "Movie ID: 42 | Predicted Rating: 3.28\n",
      "\n"
     ]
    }
   ],
   "source": [
    "from collections import defaultdict\n",
    "\n",
    "def get_top_n(predictions, n=5):\n",
    "    top_n = defaultdict(list)\n",
    "    for uid, iid, true_r, est, _ in predictions:\n",
    "        top_n[uid].append((iid, est))\n",
    "\n",
    "    for uid, user_ratings in top_n.items():\n",
    "        user_ratings.sort(key=lambda x: x[1], reverse=True)\n",
    "        top_n[uid] = user_ratings[:n]\n",
    "\n",
    "    return top_n\n",
    "\n",
    "top_n = get_top_n(predictions, n=5)\n",
    "\n",
    "# Display top 5 recommendations for first 3 users\n",
    "for uid, user_ratings in list(top_n.items())[:3]:\n",
    "    print(f\"User {uid}'s Top 5 Recommendations:\")\n",
    "    for iid, est_rating in user_ratings:\n",
    "        print(f\"Movie ID: {iid} | Predicted Rating: {est_rating:.2f}\")\n",
    "    print()\n"
   ]
  }
 ],
 "metadata": {
  "kernelspec": {
   "display_name": "Python 3 (ipykernel)",
   "language": "python",
   "name": "python3"
  },
  "language_info": {
   "codemirror_mode": {
    "name": "ipython",
    "version": 3
   },
   "file_extension": ".py",
   "mimetype": "text/x-python",
   "name": "python",
   "nbconvert_exporter": "python",
   "pygments_lexer": "ipython3",
   "version": "3.12.7"
  }
 },
 "nbformat": 4,
 "nbformat_minor": 5
}
